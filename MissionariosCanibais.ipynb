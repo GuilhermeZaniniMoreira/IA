{
  "nbformat": 4,
  "nbformat_minor": 0,
  "metadata": {
    "colab": {
      "name": "MissionariosCanibais.ipynb",
      "provenance": [],
      "collapsed_sections": []
    },
    "kernelspec": {
      "name": "python3",
      "display_name": "Python 3"
    }
  },
  "cells": [
    {
      "cell_type": "code",
      "metadata": {
        "id": "fyJjO77KzqBS",
        "colab_type": "code",
        "colab": {}
      },
      "source": [
        "class Estado:\n",
        "\t\n",
        "\tdef __init__(self, esquerda, barco, direita):\n",
        "\t\tself.barco = barco\n",
        "\t\tself.esquerda = esquerda\n",
        "\t\tself.direita = direita\n",
        "\t\tself.anterior = None\n",
        "\n",
        "\tdef verificaEstadoValido(self):\n",
        "\t\t\n",
        "\t\t# se o número de canibais em um dos lado for maior que o de missionarios\n",
        "\t\tif (0 < self.esquerda[0] < self.esquerda[1] or\n",
        "        0 < self.direita[0] < self.direita[1]):\n",
        "\t\t\treturn False\n",
        "\t\t\n",
        "    # valores negativos\n",
        "\t\tif (self.esquerda[0] < 0 or self.esquerda[1] < 0 or\n",
        "        self.direita[0] < 0 or self.direita[1] < 0):\n",
        "\t\t\treturn False\n",
        "\t\t\n",
        "\t\treturn True\n",
        "\n",
        "\tdef verificaObjetivo(self): # se todos os canibais e missionarios foram transportados\n",
        "\t\treturn (self.esquerda[0] == 0 and self.esquerda[1] == 0)\n",
        "\n",
        "\n",
        "\tdef __eq__(self, other):\n",
        "\t\treturn (self.esquerda[0] == other.esquerda[0] and self.esquerda[1] == other.esquerda[1]\n",
        "            and self.direita[0] == other.direita[0] and self.direita[1] == other.direita[1]\n",
        "            and self.barco == other.barco)\n",
        "\n",
        "\tdef __hash__(self):\n",
        "\t\treturn hash((self.esquerda[0], self.esquerda[1], self.barco, self.direita[0], self.direita[1]))\n",
        "\t\n",
        "\tdef __str__(self):\n",
        "\t\treturn(\"Missionário({}) Canibal({}) | {} | Missionário({}) Canibal({})\".format(self.esquerda[0], self.esquerda[1], self.barco, self.direita[0], self.direita[1]))"
      ],
      "execution_count": 1,
      "outputs": []
    },
    {
      "cell_type": "code",
      "metadata": {
        "id": "b97PoINW0Kn0",
        "colab_type": "code",
        "colab": {}
      },
      "source": [
        "from copy import deepcopy"
      ],
      "execution_count": 2,
      "outputs": []
    },
    {
      "cell_type": "code",
      "metadata": {
        "id": "Jan-DVss0QtL",
        "colab_type": "code",
        "colab": {}
      },
      "source": [
        "acoesPossiveis = [[1,1],[0,2],[2,0],[0,1],[1,0]]\n",
        "\n",
        "def proximosEstados(atual):\n",
        "\n",
        "  nos = []\n",
        "\n",
        "  for acao in acoesPossiveis:\n",
        "\n",
        "    proxEstado = deepcopy(atual)\n",
        "    proxEstado.anterior = atual\n",
        "    proxEstado.barco = int(not(atual.barco))\n",
        "\n",
        "    if (atual.barco): # movendo da lado direito para o lado esquerdo\n",
        "  \n",
        "      proxEstado.direita[0] -= acao[0]\n",
        "      proxEstado.direita[1] -= acao[1]\n",
        "\n",
        "      proxEstado.esquerda[0] += acao[0]\n",
        "      proxEstado.esquerda[1] += acao[1]\n",
        "\n",
        "    else: # movendo do lado esquerdo para o lado direito\n",
        "\n",
        "      proxEstado.direita[0] += acao[0]\n",
        "      proxEstado.direita[1] += acao[1]\n",
        "      \n",
        "      proxEstado.esquerda[0] -= acao[0]\n",
        "      proxEstado.esquerda[1] -= acao[1]\n",
        "\n",
        "    if proxEstado.verificaEstadoValido():\n",
        "      nos.append(proxEstado)\n",
        "\n",
        "  return nos"
      ],
      "execution_count": 3,
      "outputs": []
    },
    {
      "cell_type": "code",
      "metadata": {
        "id": "4wmqOcpT0UOk",
        "colab_type": "code",
        "colab": {}
      },
      "source": [
        "def buscaLargura(estadoInicial):\n",
        "\n",
        "  visitados = set()\n",
        "  fila = []\n",
        "  fila.append(estadoInicial)\n",
        "\n",
        "  while fila:\n",
        "    estado = fila.pop()\n",
        "    if estado.verificaObjetivo():\n",
        "      return estado\n",
        "\n",
        "    visitados.add(estado)\n",
        "  \n",
        "    for filho in proximosEstados(estado):\n",
        "      if filho in visitados:\n",
        "        continue\n",
        "\n",
        "      if filho not in fila:\n",
        "        fila.append(filho)"
      ],
      "execution_count": 4,
      "outputs": []
    },
    {
      "cell_type": "code",
      "metadata": {
        "id": "bR4Iy5PNkhxV",
        "colab_type": "code",
        "colab": {}
      },
      "source": [
        "visitadosBuscaProfunidade = set()\n",
        "\n",
        "def buscaProfundidade(estado):\n",
        "  if estado.verificaObjetivo():\n",
        "    return estado\n",
        "  \n",
        "  visitadosBuscaProfunidade.add(estado)\n",
        "\n",
        "  for filho in proximosEstados(estado):\n",
        "    if filho not in visitadosBuscaProfunidade:\n",
        "        return buscaProfundidade(filho)"
      ],
      "execution_count": 5,
      "outputs": []
    },
    {
      "cell_type": "code",
      "metadata": {
        "id": "QKGQYCIVw6Z9",
        "colab_type": "code",
        "colab": {}
      },
      "source": [
        "def caminho(estado):\n",
        "\n",
        "  caminho = []\n",
        "  \n",
        "  while estado:\n",
        "    caminho.append(estado)\n",
        "    estado = estado.anterior\n",
        "\n",
        "  caminho = caminho[::-1]\n",
        "\n",
        "  for estado in caminho:\n",
        "    print(estado)"
      ],
      "execution_count": 6,
      "outputs": []
    },
    {
      "cell_type": "code",
      "metadata": {
        "id": "IQqm6vPQ02hk",
        "colab_type": "code",
        "colab": {}
      },
      "source": [
        "def main():\n",
        "  estadoInicial = Estado([3,3],0,[0,0]) # estado incial (3 canibais e 3 missionarios)\n",
        "  estadoObjetivoBuscaLargura = buscaLargura(estadoInicial)\n",
        "  estadoObjetivoBuscaProfundidade = buscaProfundidade(estadoInicial)\n",
        "\n",
        "  print(\"------------------Busca em largura-----------------------\")\n",
        "  caminho(estadoObjetivoBuscaLargura)\n",
        "  print(\"------------------Busca em profundidade------------------\")\n",
        "  caminho(estadoObjetivoBuscaProfundidade)"
      ],
      "execution_count": 7,
      "outputs": []
    },
    {
      "cell_type": "code",
      "metadata": {
        "id": "NuhAehmI2R06",
        "colab_type": "code",
        "colab": {
          "base_uri": "https://localhost:8080/",
          "height": 459
        },
        "outputId": "e7806ca9-18ec-4a98-c288-f6b039fb9f16"
      },
      "source": [
        "main()"
      ],
      "execution_count": 8,
      "outputs": [
        {
          "output_type": "stream",
          "text": [
            "------------------Busca em largura-----------------------\n",
            "Missionário(3) Canibal(3) | 0 | Missionário(0) Canibal(0)\n",
            "Missionário(3) Canibal(1) | 1 | Missionário(0) Canibal(2)\n",
            "Missionário(3) Canibal(2) | 0 | Missionário(0) Canibal(1)\n",
            "Missionário(3) Canibal(0) | 1 | Missionário(0) Canibal(3)\n",
            "Missionário(3) Canibal(1) | 0 | Missionário(0) Canibal(2)\n",
            "Missionário(1) Canibal(1) | 1 | Missionário(2) Canibal(2)\n",
            "Missionário(2) Canibal(2) | 0 | Missionário(1) Canibal(1)\n",
            "Missionário(0) Canibal(2) | 1 | Missionário(3) Canibal(1)\n",
            "Missionário(0) Canibal(3) | 0 | Missionário(3) Canibal(0)\n",
            "Missionário(0) Canibal(1) | 1 | Missionário(3) Canibal(2)\n",
            "Missionário(1) Canibal(1) | 0 | Missionário(2) Canibal(2)\n",
            "Missionário(0) Canibal(0) | 1 | Missionário(3) Canibal(3)\n",
            "------------------Busca em profundidade------------------\n",
            "Missionário(3) Canibal(3) | 0 | Missionário(0) Canibal(0)\n",
            "Missionário(2) Canibal(2) | 1 | Missionário(1) Canibal(1)\n",
            "Missionário(3) Canibal(2) | 0 | Missionário(0) Canibal(1)\n",
            "Missionário(3) Canibal(0) | 1 | Missionário(0) Canibal(3)\n",
            "Missionário(3) Canibal(1) | 0 | Missionário(0) Canibal(2)\n",
            "Missionário(1) Canibal(1) | 1 | Missionário(2) Canibal(2)\n",
            "Missionário(2) Canibal(2) | 0 | Missionário(1) Canibal(1)\n",
            "Missionário(0) Canibal(2) | 1 | Missionário(3) Canibal(1)\n",
            "Missionário(0) Canibal(3) | 0 | Missionário(3) Canibal(0)\n",
            "Missionário(0) Canibal(1) | 1 | Missionário(3) Canibal(2)\n",
            "Missionário(0) Canibal(2) | 0 | Missionário(3) Canibal(1)\n",
            "Missionário(0) Canibal(0) | 1 | Missionário(3) Canibal(3)\n"
          ],
          "name": "stdout"
        }
      ]
    }
  ]
}